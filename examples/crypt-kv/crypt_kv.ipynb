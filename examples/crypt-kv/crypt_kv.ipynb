{
 "cells": [
  {
   "cell_type": "code",
   "execution_count": null,
   "id": "3edbe311-20c8-43ae-a315-f6ec5102afc2",
   "metadata": {},
   "outputs": [],
   "source": [
    "!pip install boto3 moto tappd-client cryptography trie \"eth-hash[pycryptodome]\""
   ]
  },
  {
   "cell_type": "code",
   "execution_count": null,
   "id": "e5ecef0a-518c-489d-8a43-fadadc6cf33f",
   "metadata": {},
   "outputs": [],
   "source": [
    "import boto3\n",
    "from moto import mock_aws\n",
    "from crypt_kv import Boto3Db, DstackKeyProvider, CryptClient\n",
    "\n",
    "\n",
    "@mock_aws\n",
    "def test_s3_put():\n",
    "    conn = boto3.resource(\"s3\", region_name=\"us-east-1\")\n",
    "    conn.create_bucket(Bucket=\"mybucket\")\n",
    "\n",
    "    client = boto3.client(\"s3\", region_name=\"us-east-1\")\n",
    "    db = Boto3Db(\"mybucket\", client)\n",
    "    key_provider = DstackKeyProvider(\"key\")\n",
    "    crypt_client = CryptClient(key_provider, db=db)\n",
    "\n",
    "    # set some values\n",
    "    crypt_client.set(b\"TEE\", b\"is awesome\")\n",
    "    crypt_client.set(b\"foo\", b\"bar\")\n",
    "\n",
    "    # list objects\n",
    "    response = client.list_objects_v2(Bucket=\"mybucket\")\n",
    "    n_keys = len([_ for _ in response[\"Contents\"]])\n",
    "    assert n_keys == 4\n",
    "\n",
    "    # Create a new client instance\n",
    "    root_hash = crypt_client.root_hash\n",
    "    client = boto3.client(\"s3\", region_name=\"us-east-1\")\n",
    "    db = Boto3Db(\"mybucket\", client)\n",
    "    crypt_client2 = CryptClient(DstackKeyProvider(\"key\"), root_hash=root_hash, db=db)\n",
    "\n",
    "    # get the set values\n",
    "    val_tee = crypt_client2.get(b\"TEE\")\n",
    "    assert val_tee == b\"is awesome\"\n",
    "    val_foo = crypt_client2.get(b\"foo\")\n",
    "    assert val_foo == b\"bar\"\n",
    "    print(f\"tee={val_tee}\")\n",
    "    print(f\"foo={val_foo}\")\n",
    "\n",
    "test_s3_put()"
   ]
  },
  {
   "cell_type": "code",
   "execution_count": null,
   "id": "712d5dea-de1e-42f1-bd00-d0a5648ef180",
   "metadata": {},
   "outputs": [],
   "source": []
  }
 ],
 "metadata": {
  "kernelspec": {
   "display_name": "Python 3 (ipykernel)",
   "language": "python",
   "name": "python3"
  },
  "language_info": {
   "codemirror_mode": {
    "name": "ipython",
    "version": 3
   },
   "file_extension": ".py",
   "mimetype": "text/x-python",
   "name": "python",
   "nbconvert_exporter": "python",
   "pygments_lexer": "ipython3",
   "version": "3.12.7"
  }
 },
 "nbformat": 4,
 "nbformat_minor": 5
}
